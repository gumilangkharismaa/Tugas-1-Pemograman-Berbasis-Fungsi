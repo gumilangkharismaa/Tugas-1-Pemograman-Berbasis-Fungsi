{
 "cells": [
  {
   "cell_type": "code",
   "execution_count": 18,
   "id": "721c3eb1",
   "metadata": {},
   "outputs": [],
   "source": [
    "def encrypt_pass(password):\n",
    "    encrypted_pass = \"\"\n",
    "    for char in password:\n",
    "        ascii_value = ord(char)\n",
    "        first = (ascii_value//26) + 80\n",
    "        second = (ascii_value%26) + 80\n",
    "        third = '+' if first > second else '-'\n",
    "        encrypted_pass += chr(first) + chr(second) + third\n",
    "    return encrypted_pass"
   ]
  },
  {
   "cell_type": "code",
   "execution_count": 21,
   "id": "f6fb4bb8",
   "metadata": {},
   "outputs": [
    {
     "name": "stdout",
     "output_type": "stream",
     "text": [
      "Masukkan Password Anda : gumi\n",
      "Encrypted Password :  Si-T]-TU-TQ+\n"
     ]
    }
   ],
   "source": [
    "password = input(\"Masukkan Password Anda : \")\n",
    "encrypted_pass = encrypt_pass(password)\n",
    "print(\"Encrypted Password : \", encrypted_pass)"
   ]
  }
 ],
 "metadata": {
  "kernelspec": {
   "display_name": "Python 3 (ipykernel)",
   "language": "python",
   "name": "python3"
  },
  "language_info": {
   "codemirror_mode": {
    "name": "ipython",
    "version": 3
   },
   "file_extension": ".py",
   "mimetype": "text/x-python",
   "name": "python",
   "nbconvert_exporter": "python",
   "pygments_lexer": "ipython3",
   "version": "3.10.7"
  }
 },
 "nbformat": 4,
 "nbformat_minor": 5
}
